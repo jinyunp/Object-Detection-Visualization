{
 "cells": [
  {
   "cell_type": "code",
   "execution_count": null,
   "metadata": {},
   "outputs": [],
   "source": [
    "import os\n",
    "\n",
    "import pandas as pd\n",
    "import numpy as np\n",
    "\n",
    "from PIL import Image"
   ]
  },
  {
   "cell_type": "code",
   "execution_count": 2,
   "metadata": {},
   "outputs": [],
   "source": [
    "# -*- coding: cp949 -*- \n",
    "\n",
    "# 입력노드로부터 생성된 임시 csv 파일로부터 ecmData DataFrame 생성.\n",
    "ecmData = pd.read_csv(\"python_test.csv\", encoding = 'CP949')"
   ]
  },
  {
   "cell_type": "code",
   "execution_count": 4,
   "metadata": {},
   "outputs": [
    {
     "data": {
      "text/html": [
       "<div>\n",
       "<style scoped>\n",
       "    .dataframe tbody tr th:only-of-type {\n",
       "        vertical-align: middle;\n",
       "    }\n",
       "\n",
       "    .dataframe tbody tr th {\n",
       "        vertical-align: top;\n",
       "    }\n",
       "\n",
       "    .dataframe thead th {\n",
       "        text-align: right;\n",
       "    }\n",
       "</style>\n",
       "<table border=\"1\" class=\"dataframe\">\n",
       "  <thead>\n",
       "    <tr style=\"text-align: right;\">\n",
       "      <th></th>\n",
       "      <th>원본 이미지 경로</th>\n",
       "      <th>원본 파일명</th>\n",
       "      <th>원본 너비</th>\n",
       "      <th>원본 높이</th>\n",
       "      <th>index</th>\n",
       "      <th>right_x</th>\n",
       "      <th>right_y</th>\n",
       "      <th>left_x</th>\n",
       "      <th>left_y</th>\n",
       "    </tr>\n",
       "  </thead>\n",
       "  <tbody>\n",
       "    <tr>\n",
       "      <th>0</th>\n",
       "      <td>C:\\Users\\USER\\Desktop\\JYP\\projects\\99_기타\\24101...</td>\n",
       "      <td>E63_DATA2_OP_L1_D2023-08-30-13-30_001_000018.jpg</td>\n",
       "      <td>1920</td>\n",
       "      <td>1080</td>\n",
       "      <td>13</td>\n",
       "      <td>1255.52</td>\n",
       "      <td>1062.00</td>\n",
       "      <td>965.58</td>\n",
       "      <td>560.25</td>\n",
       "    </tr>\n",
       "    <tr>\n",
       "      <th>1</th>\n",
       "      <td>C:\\Users\\USER\\Desktop\\JYP\\projects\\99_기타\\24101...</td>\n",
       "      <td>E63_DATA2_OP_L1_D2023-08-30-13-30_001_000037.jpg</td>\n",
       "      <td>1920</td>\n",
       "      <td>1080</td>\n",
       "      <td>25</td>\n",
       "      <td>1260.84</td>\n",
       "      <td>1066.50</td>\n",
       "      <td>973.56</td>\n",
       "      <td>551.25</td>\n",
       "    </tr>\n",
       "    <tr>\n",
       "      <th>2</th>\n",
       "      <td>C:\\Users\\USER\\Desktop\\JYP\\projects\\99_기타\\24101...</td>\n",
       "      <td>E63_DATA2_OP_L1_D2023-08-30-13-30_001_000043.jpg</td>\n",
       "      <td>1920</td>\n",
       "      <td>1080</td>\n",
       "      <td>31</td>\n",
       "      <td>1260.84</td>\n",
       "      <td>1068.75</td>\n",
       "      <td>976.22</td>\n",
       "      <td>549.00</td>\n",
       "    </tr>\n",
       "    <tr>\n",
       "      <th>3</th>\n",
       "      <td>C:\\Users\\USER\\Desktop\\JYP\\projects\\99_기타\\24101...</td>\n",
       "      <td>E63_DATA2_OP_L1_D2023-08-30-13-30_001_000057.jpg</td>\n",
       "      <td>1920</td>\n",
       "      <td>1080</td>\n",
       "      <td>43</td>\n",
       "      <td>1247.54</td>\n",
       "      <td>1064.25</td>\n",
       "      <td>946.96</td>\n",
       "      <td>576.00</td>\n",
       "    </tr>\n",
       "    <tr>\n",
       "      <th>4</th>\n",
       "      <td>C:\\Users\\USER\\Desktop\\JYP\\projects\\99_기타\\24101...</td>\n",
       "      <td>E63_DATA2_OP_L1_D2023-08-30-13-30_001_000065.jpg</td>\n",
       "      <td>1920</td>\n",
       "      <td>1080</td>\n",
       "      <td>49</td>\n",
       "      <td>1236.90</td>\n",
       "      <td>1048.50</td>\n",
       "      <td>941.64</td>\n",
       "      <td>580.50</td>\n",
       "    </tr>\n",
       "  </tbody>\n",
       "</table>\n",
       "</div>"
      ],
      "text/plain": [
       "                                           원본 이미지 경로  \\\n",
       "0  C:\\Users\\USER\\Desktop\\JYP\\projects\\99_기타\\24101...   \n",
       "1  C:\\Users\\USER\\Desktop\\JYP\\projects\\99_기타\\24101...   \n",
       "2  C:\\Users\\USER\\Desktop\\JYP\\projects\\99_기타\\24101...   \n",
       "3  C:\\Users\\USER\\Desktop\\JYP\\projects\\99_기타\\24101...   \n",
       "4  C:\\Users\\USER\\Desktop\\JYP\\projects\\99_기타\\24101...   \n",
       "\n",
       "                                             원본 파일명  원본 너비  원본 높이  index  \\\n",
       "0  E63_DATA2_OP_L1_D2023-08-30-13-30_001_000018.jpg   1920   1080     13   \n",
       "1  E63_DATA2_OP_L1_D2023-08-30-13-30_001_000037.jpg   1920   1080     25   \n",
       "2  E63_DATA2_OP_L1_D2023-08-30-13-30_001_000043.jpg   1920   1080     31   \n",
       "3  E63_DATA2_OP_L1_D2023-08-30-13-30_001_000057.jpg   1920   1080     43   \n",
       "4  E63_DATA2_OP_L1_D2023-08-30-13-30_001_000065.jpg   1920   1080     49   \n",
       "\n",
       "   right_x  right_y  left_x  left_y  \n",
       "0  1255.52  1062.00  965.58  560.25  \n",
       "1  1260.84  1066.50  973.56  551.25  \n",
       "2  1260.84  1068.75  976.22  549.00  \n",
       "3  1247.54  1064.25  946.96  576.00  \n",
       "4  1236.90  1048.50  941.64  580.50  "
      ]
     },
     "execution_count": 4,
     "metadata": {},
     "output_type": "execute_result"
    }
   ],
   "source": [
    "ecmData.head()"
   ]
  },
  {
   "cell_type": "code",
   "execution_count": 33,
   "metadata": {},
   "outputs": [
    {
     "data": {
      "text/plain": [
       "'C:/Users/USER/Desktop/JYP/projects/99_기타/241017_산자부_산업안전예제/crop_image_all'"
      ]
     },
     "execution_count": 33,
     "metadata": {},
     "output_type": "execute_result"
    }
   ],
   "source": [
    "base_dir = ecmData.iloc[0]['원본 이미지 경로'].split('\\\\')[:-3]\n",
    "base_dir = '/'.join(base_dir) + '/crop_image_all'\n",
    "base_dir"
   ]
  },
  {
   "cell_type": "code",
   "execution_count": 38,
   "metadata": {},
   "outputs": [
    {
     "data": {
      "text/plain": [
       "'C:/Users/USER/Desktop/JYP/projects/99_기타/241017_산자부_산업안전예제/image_all/normal/E63_DATA2_OP_L1_D2023-08-30-13-30_001_000018.jpg'"
      ]
     },
     "execution_count": 38,
     "metadata": {},
     "output_type": "execute_result"
    }
   ],
   "source": [
    "img_list = ecmData['원본 이미지 경로']\n",
    "img_list[0].replace('\\\\', '/')"
   ]
  },
  {
   "cell_type": "code",
   "execution_count": null,
   "metadata": {},
   "outputs": [
    {
     "data": {
      "text/plain": [
       "('normal', 1255.52, 1062.0, 965.58, 560.25)"
      ]
     },
     "execution_count": 9,
     "metadata": {},
     "output_type": "execute_result"
    }
   ],
   "source": [
    "#example on one image\n",
    "cls = ecmData.iloc[0]['원본 이미지 경로'].split('\\\\')[-2]\n",
    "right_x = ecmData.iloc[0]['right_x']\n",
    "right_y = ecmData.iloc[0]['right_y']\n",
    "left_x = ecmData.iloc[0]['left_x']\n",
    "left_y = ecmData.iloc[0]['left_y']\n",
    "cls, right_x, right_y, left_x, left_y"
   ]
  },
  {
   "cell_type": "code",
   "execution_count": 40,
   "metadata": {},
   "outputs": [
    {
     "name": "stdout",
     "output_type": "stream",
     "text": [
      "C:/Users/USER/Desktop/JYP/projects/99_기타/241017_산자부_산업안전예제/crop_image_all/normal/E63_DATA2_OP_L1_D2023-08-30-13-30_001_000018.jpg\n"
     ]
    }
   ],
   "source": [
    "for idx, img_dir in enumerate(img_list[:1]): \n",
    "   cls = ecmData.iloc[idx]['원본 이미지 경로'].split('\\\\')[-2]\n",
    "   right_x = ecmData.iloc[idx]['left_x']\n",
    "   right_y = ecmData.iloc[idx]['left_y']\n",
    "   left_x = ecmData.iloc[idx]['right_x']\n",
    "   left_y = ecmData.iloc[idx]['right_y']\n",
    "\n",
    "   # work on the image\n",
    "   img = Image.open(img_dir.replace('\\\\', '/'))\n",
    "   img_crop = img.crop([right_x, right_y, left_x, left_y])\n",
    "   size = (int(img_crop.size[0]/5), int(img_crop.size[1]/5))\n",
    "   img_resize = img_crop.resize(size)\n",
    "\n",
    "   save_dir = f'{base_dir}/{cls}/' + os.path.basename(img_dir)\n",
    "   print(save_dir)\n",
    "\n",
    "   img_resize.save(save_dir)"
   ]
  },
  {
   "cell_type": "code",
   "execution_count": null,
   "metadata": {},
   "outputs": [],
   "source": [
    "'C:\\Users\\USER\\Desktop\\JYP\\projects\\99_기타\\241017_산자부_산업안전예제'"
   ]
  }
 ],
 "metadata": {
  "kernelspec": {
   "display_name": "conda3.11.9",
   "language": "python",
   "name": "python3"
  },
  "language_info": {
   "codemirror_mode": {
    "name": "ipython",
    "version": 3
   },
   "file_extension": ".py",
   "mimetype": "text/x-python",
   "name": "python",
   "nbconvert_exporter": "python",
   "pygments_lexer": "ipython3",
   "version": "3.11.10"
  }
 },
 "nbformat": 4,
 "nbformat_minor": 2
}
